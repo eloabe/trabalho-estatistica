{
  "nbformat": 4,
  "nbformat_minor": 0,
  "metadata": {
    "colab": {
      "name": "trabalhofinal_prob.ipynb",
      "provenance": [],
      "collapsed_sections": [
        "fr6ph7d8zCbT",
        "IogAnBEUK6Kp"
      ],
      "toc_visible": true
    },
    "kernelspec": {
      "name": "python3",
      "display_name": "Python 3"
    }
  },
  "cells": [
    {
      "cell_type": "markdown",
      "metadata": {
        "id": "fr6ph7d8zCbT"
      },
      "source": [
        "# Importação de bibliotecas"
      ]
    },
    {
      "cell_type": "code",
      "metadata": {
        "id": "3-oLEVm3jTuq"
      },
      "source": [
        "import numpy as np\n",
        "import matplotlib.pyplot as plt\n",
        "import seaborn as sns\n",
        "from scipy import stats\n",
        "import statistics as st\n",
        "import math\n",
        "sns.set()\n",
        "sns.set_context('notebook')\n",
        "%matplotlib inline"
      ],
      "execution_count": 3,
      "outputs": []
    },
    {
      "cell_type": "markdown",
      "metadata": {
        "id": "IogAnBEUK6Kp"
      },
      "source": [
        "# Parte 1\n",
        "\n",
        "Suponha uma variável aleatória X com distribuição uniforme no intervalo [0,1].\n",
        "\n",
        "Suponha uma variável aleatória Y = (-1/alfa)log(1-X).\n",
        "\n",
        "Prove que Y segue os padrões de uma distribuição exponencial de parâmetro alfa."
      ]
    },
    {
      "cell_type": "code",
      "metadata": {
        "id": "cRhMCo2MLHXx"
      },
      "source": [
        "X_unif = np.random.uniform(0, 1, 500)\n",
        "\n",
        "#Criação da variável aleatória X com distribuição uniforme e 500 observações"
      ],
      "execution_count": 4,
      "outputs": []
    },
    {
      "cell_type": "markdown",
      "metadata": {
        "id": "T0eHFOXxTT9f"
      },
      "source": [
        "Criaremos uma função que recebe os valores de X e um parâmetro alfa. \n",
        "\n",
        "Essa função cria uma lista com os valores de X transformados, seguindo a função da variável Y."
      ]
    },
    {
      "cell_type": "code",
      "metadata": {
        "id": "iOLt8q9wLRTb"
      },
      "source": [
        "def transformacao(X, alfa):\n",
        "  expo = list()\n",
        "\n",
        "  for x in X:\n",
        "    expo.append((-1/alfa) * math.log(1 - x))\n",
        "  \n",
        "  return expo"
      ],
      "execution_count": 105,
      "outputs": []
    },
    {
      "cell_type": "code",
      "metadata": {
        "id": "smqOTikYL68V"
      },
      "source": [
        "Y = transformacao(X_unif, 1)\n",
        "\n",
        "#*Modificar os valores de alfa para ver as modificações no gráfico"
      ],
      "execution_count": 106,
      "outputs": []
    },
    {
      "cell_type": "code",
      "metadata": {
        "id": "T-c-bBY5MIhP",
        "outputId": "98d5dddd-2a7f-4c2d-9db0-87171ac5edc1",
        "colab": {
          "base_uri": "https://localhost:8080/",
          "height": 410
        }
      },
      "source": [
        "sns.set_style('white')\n",
        "\n",
        "plt.figure(figsize=(8,6))\n",
        "plt.xlim(0, 5)\n",
        "\n",
        "fig = sns.histplot(data = Y, \n",
        "             stat='probability', \n",
        "             kde=True)\n",
        "\n",
        "fig.set_title('Distribuição de probabilidades')\n",
        "fig.set(ylabel='Probabilidades')"
      ],
      "execution_count": 107,
      "outputs": [
        {
          "output_type": "execute_result",
          "data": {
            "text/plain": [
              "[Text(0, 0.5, 'Probabilidades')]"
            ]
          },
          "metadata": {
            "tags": []
          },
          "execution_count": 107
        },
        {
          "output_type": "display_data",
          "data": {
            "image/png": "[encoded data removed]",
            "text/plain": [
              "<Figure size 576x432 with 1 Axes>"
            ]
          },
          "metadata": {
            "tags": []
          }
        }
      ]
    },
    {
      "cell_type": "code",
      "metadata": {
        "id": "RReFXsuMMRiB"
      },
      "source": [
        ""
      ],
      "execution_count": null,
      "outputs": []
    },
    {
      "cell_type": "markdown",
      "metadata": {
        "id": "9spZ-Pr4kJoZ"
      },
      "source": [
        "# Parte 2\n",
        "\n",
        "Usar simulação de amostras pseudoaleatórias para provar o Teorema do Limite Central"
      ]
    },
    {
      "cell_type": "markdown",
      "metadata": {
        "id": "zmU1OgJSxbk8"
      },
      "source": [
        "##2.1"
      ]
    },
    {
      "cell_type": "markdown",
      "metadata": {
        "id": "fnwcljqQJPV9"
      },
      "source": [
        "Primeiro, criamos uma variável aleatória com distribuição de Poisson de lambda = 5. \n",
        "\n",
        "Essa variável tem o formato (500, n), onde 500 é o número de amostras aleatórias e n é a quantidade de observações por amostra.\n",
        "\n",
        "*Modificar o tamanho de n para ver as mudanças no gráfico"
      ]
    },
    {
      "cell_type": "code",
      "metadata": {
        "id": "CoUoeF28jpYs"
      },
      "source": [
        "X = np.random.poisson(5, size=(500, 50))"
      ],
      "execution_count": 22,
      "outputs": []
    },
    {
      "cell_type": "markdown",
      "metadata": {
        "id": "7t4PHKIVxadW"
      },
      "source": [
        "##2.2"
      ]
    },
    {
      "cell_type": "markdown",
      "metadata": {
        "id": "9XdLzPujJU2b"
      },
      "source": [
        "Criamos um loop para tirar a média de cada linha e armazenar em uma variável sample_mean, correspondente à média amostral."
      ]
    },
    {
      "cell_type": "code",
      "metadata": {
        "id": "prbwREq8uzrC"
      },
      "source": [
        "sample_mean = list()\n",
        "for row in X:\n",
        "  sample_mean.append(np.mean(row))"
      ],
      "execution_count": 108,
      "outputs": []
    },
    {
      "cell_type": "code",
      "metadata": {
        "id": "uJ4CcW1bFphU",
        "outputId": "111e3111-3a50-461f-995d-ed899976df49",
        "colab": {
          "base_uri": "https://localhost:8080/",
          "height": 34
        }
      },
      "source": [
        "print(sample_mean[:10])\n",
        "\n",
        "#As 10 primeiras linhas, ou 10 primeiras médias amostrais"
      ],
      "execution_count": 109,
      "outputs": [
        {
          "output_type": "stream",
          "text": [
            "[4.46, 4.76, 5.02, 5.06, 4.86, 5.1, 5.2, 5.0, 5.08, 4.8]\n"
          ],
          "name": "stdout"
        }
      ]
    },
    {
      "cell_type": "markdown",
      "metadata": {
        "id": "bYRHBow_2u66"
      },
      "source": [
        "##2.3 e 2.4"
      ]
    },
    {
      "cell_type": "markdown",
      "metadata": {
        "id": "jPO2GLORJXbq"
      },
      "source": [
        "Agora, podemos fazer a visualização do histograma de distribuição de probabilidades para a média amostral."
      ]
    },
    {
      "cell_type": "code",
      "metadata": {
        "id": "EKde1YAt2-uH",
        "outputId": "dce26bdd-e221-4a90-9254-edbd08e455df",
        "colab": {
          "base_uri": "https://localhost:8080/",
          "height": 410
        }
      },
      "source": [
        "sns.set_style('white')\n",
        "\n",
        "plt.figure(figsize=(8,6))\n",
        "\n",
        "fig = sns.histplot(data = sample_mean, \n",
        "             stat='probability', \n",
        "             kde=True)\n",
        "\n",
        "fig.set(ylabel='Probabilidades')\n",
        "fig.set_title('Distribuição de probabilidades')"
      ],
      "execution_count": 110,
      "outputs": [
        {
          "output_type": "execute_result",
          "data": {
            "text/plain": [
              "Text(0.5, 1.0, 'Distribuição de probabilidades')"
            ]
          },
          "metadata": {
            "tags": []
          },
          "execution_count": 110
        },
        {
          "output_type": "display_data",
          "data": {
            "image/png": "[encoded data removed]",
            "text/plain": [
              "<Figure size 576x432 with 1 Axes>"
            ]
          },
          "metadata": {
            "tags": []
          }
        }
      ]
    },
    {
      "cell_type": "markdown",
      "metadata": {
        "id": "WQ9qDdws0g_L"
      },
      "source": [
        "Analisando o histograma, podemos verificar que os valores tendem a estar mais concentrados nas proximidades do centro, ou da mediana."
      ]
    },
    {
      "cell_type": "code",
      "metadata": {
        "id": "zJuCVQ2l3fR0",
        "outputId": "0090efa2-2b41-4872-895e-9ca7bbd73b5c",
        "colab": {
          "base_uri": "https://localhost:8080/",
          "height": 431
        }
      },
      "source": [
        "sns.set_style('white')\n",
        "plt.figure(figsize=(8, 6))\n",
        "\n",
        "fig = sns.boxplot(sample_mean)"
      ],
      "execution_count": 25,
      "outputs": [
        {
          "output_type": "stream",
          "text": [
            "/usr/local/lib/python3.6/dist-packages/seaborn/_decorators.py:43: FutureWarning: Pass the following variable as a keyword arg: x. From version 0.12, the only valid positional argument will be `data`, and passing other arguments without an explicit keyword will result in an error or misinterpretation.\n",
            "  FutureWarning\n"
          ],
          "name": "stderr"
        },
        {
          "output_type": "display_data",
          "data": {
            "image/png": "[encoded data removed]",
            "text/plain": [
              "<Figure size 576x432 with 1 Axes>"
            ]
          },
          "metadata": {
            "tags": []
          }
        }
      ]
    },
    {
      "cell_type": "markdown",
      "metadata": {
        "id": "h5szb5lV0vKj"
      },
      "source": [
        "Analisando o boxplot, verificamos que há pontos abaixo do limite inferior e acima do limite superior. Esses pontos podem ser considerados outliers."
      ]
    },
    {
      "cell_type": "markdown",
      "metadata": {
        "id": "yFo_sIlsG2WO"
      },
      "source": [
        "## 2.5.a"
      ]
    },
    {
      "cell_type": "markdown",
      "metadata": {
        "id": "UHuYwPEUJbny"
      },
      "source": [
        "Analisando graficamente, verificamos que o histograma tem certa simetria e um formato de sino."
      ]
    },
    {
      "cell_type": "markdown",
      "metadata": {
        "id": "TxDSx4udG90z"
      },
      "source": [
        "## 2.5.b"
      ]
    },
    {
      "cell_type": "markdown",
      "metadata": {
        "id": "nmRDwezJJvRr"
      },
      "source": [
        "Vamos verificar se as medidas de tendência central (média, mediana e moda) são próximas."
      ]
    },
    {
      "cell_type": "code",
      "metadata": {
        "id": "75dTPkhJ0N-9",
        "outputId": "701ceae1-902e-41ea-9576-a4601c4dd2a7",
        "colab": {
          "base_uri": "https://localhost:8080/",
          "height": 68
        }
      },
      "source": [
        "print('Média: ', st.mean(sample_mean))\n",
        "print('Mediana: ', st.median(sample_mean))\n",
        "print('Moda', st.mode(sample_mean))"
      ],
      "execution_count": 26,
      "outputs": [
        {
          "output_type": "stream",
          "text": [
            "Média:  4.99736\n",
            "Mediana:  5.0\n",
            "Moda 4.9\n"
          ],
          "name": "stdout"
        }
      ]
    },
    {
      "cell_type": "markdown",
      "metadata": {
        "id": "GC5WWIi0HHs2"
      },
      "source": [
        "São valores próximos, a maior diferença é entre a mediana e a moda, de 0.1."
      ]
    },
    {
      "cell_type": "markdown",
      "metadata": {
        "id": "328FywkKHOim"
      },
      "source": [
        "##2.5.c"
      ]
    },
    {
      "cell_type": "markdown",
      "metadata": {
        "id": "Jc4oOtEIJ51K"
      },
      "source": [
        "Agora, checamos se a amplitude ultrapassa 6 vezes o valor do desvio padrão.\n",
        "\n",
        "A amplitude amostral é a diferença entre o maior valor e o menor valor observados na amostra."
      ]
    },
    {
      "cell_type": "code",
      "metadata": {
        "id": "TNbQEQoU0cHO",
        "outputId": "e7fd2907-b3da-4973-fff1-585b0084f455",
        "colab": {
          "base_uri": "https://localhost:8080/",
          "height": 51
        }
      },
      "source": [
        "amplitude = sample_mean[-1] - sample_mean[0]\n",
        "\n",
        "#subtrai o último valor da amostra pelo primeiro\n",
        "\n",
        "print('Amplitude = ', amplitude)\n",
        "print('6 vezes o desvio padrão: ', 6 * np.std(sample_mean))"
      ],
      "execution_count": 111,
      "outputs": [
        {
          "output_type": "stream",
          "text": [
            "Amplitude =  0.8399999999999999\n",
            "6 vezes o desvio padrão:  1.8805748840181824\n"
          ],
          "name": "stdout"
        }
      ]
    },
    {
      "cell_type": "markdown",
      "metadata": {
        "id": "cQXIQrfDH3_m"
      },
      "source": [
        "Assim, constatamos que a amplitude NÃO ultrapassa esse valor."
      ]
    },
    {
      "cell_type": "markdown",
      "metadata": {
        "id": "i62ftkPx2TCT"
      },
      "source": [
        "##2.5.d\n",
        "\n"
      ]
    },
    {
      "cell_type": "markdown",
      "metadata": {
        "id": "6eqAbwhCKK9z"
      },
      "source": [
        "Análise dos outliers\n",
        "\n",
        "Uma forma de encontrar e contar outliers é através de uma análise numérica do gráfico boxplot. Nele, temos as seguintes propriedades:\n",
        "\n",
        "1.   Quartis: cada um possui 25% da amostra. Consideramos Q1, Q2 e Q3; Q2 corresponde à mediana.\n",
        "2.   Intervalo ou amplitude interquartil (I): a região coberta pela \"caixa\". Corresponde a Q3 - Q1.\n",
        "3.   Limite superior: Q3 + (1.5 * I)\n",
        "4.   Limite inferior: Q1 - (1.5 * I)\n",
        "5.   Qualquer valor acima do limite superior ou abaixo do limite inferior é considerado outlier.\n",
        "\n",
        "Para fazer essa análise, primeiramente precisamos ordenar os valores da amostra. Então, podemos calcular os valores dos quartis, o valor de I e os limites superior e inferior."
      ]
    },
    {
      "cell_type": "code",
      "metadata": {
        "id": "dO84QlXy5tqg"
      },
      "source": [
        "sample_mean.sort()\n",
        "\n",
        "#Ordena os valores da amostra"
      ],
      "execution_count": 65,
      "outputs": []
    },
    {
      "cell_type": "code",
      "metadata": {
        "id": "XFjZ3dQE9WAY"
      },
      "source": [
        "q1, q3 = np.percentile(sample_mean, [25, 75])\n",
        "I = q3 - q1"
      ],
      "execution_count": 66,
      "outputs": []
    },
    {
      "cell_type": "code",
      "metadata": {
        "id": "9LYfrLSf9dZZ"
      },
      "source": [
        "limite_superior = q3 + (1.5 * I)\n",
        "limite_inferior = q1 - (1.5 * I)"
      ],
      "execution_count": 68,
      "outputs": []
    },
    {
      "cell_type": "code",
      "metadata": {
        "id": "UUzlQhBN6Ihl",
        "outputId": "fda9739e-1c4d-4eef-ebe6-168576c6acb4",
        "colab": {
          "base_uri": "https://localhost:8080/",
          "height": 51
        }
      },
      "source": [
        "print('O limite superior da amostra é: ', limite_superior)\n",
        "print('O limite inferior da amostra é: ', limite_inferior)"
      ],
      "execution_count": 70,
      "outputs": [
        {
          "output_type": "stream",
          "text": [
            "O limite superior da amostra é:  5.83\n",
            "O limite inferior da amostra é:  4.15\n"
          ],
          "name": "stdout"
        }
      ]
    },
    {
      "cell_type": "markdown",
      "metadata": {
        "id": "o0Kj6yIi-GvZ"
      },
      "source": [
        "Agora, podemos detectar e contar os outliers. Vamos dividir em duas partes: primeiro, os que estão abaixo do limite inferior."
      ]
    },
    {
      "cell_type": "code",
      "metadata": {
        "id": "6fq970g_6KQc",
        "outputId": "a0814546-02c4-4aa1-e071-326a4bc4321c",
        "colab": {
          "base_uri": "https://localhost:8080/",
          "height": 34
        }
      },
      "source": [
        "lower_outliers = 0\n",
        "\n",
        "for x in ordered:\n",
        "  if x < limite_inferior:\n",
        "    lower_outliers += 1\n",
        "\n",
        "print('Número de outliers inferiores: ', lower_outliers)"
      ],
      "execution_count": 112,
      "outputs": [
        {
          "output_type": "stream",
          "text": [
            "Número de outliers inferiores:  1\n"
          ],
          "name": "stdout"
        }
      ]
    },
    {
      "cell_type": "markdown",
      "metadata": {
        "id": "fKovO1ga-iGP"
      },
      "source": [
        "Agora, os que estão acima do limite superior."
      ]
    },
    {
      "cell_type": "code",
      "metadata": {
        "id": "HOZUvrmx6hTG",
        "outputId": "4a8bc270-be81-42b2-9e08-eaf29bbe6ceb",
        "colab": {
          "base_uri": "https://localhost:8080/",
          "height": 34
        }
      },
      "source": [
        "upper_outliers = 0\n",
        "\n",
        "for x in ordered:\n",
        "  if x > limite_superior:\n",
        "    upper_outliers += 1\n",
        "\n",
        "print('Número de outliers superiores: ', upper_outliers)"
      ],
      "execution_count": 113,
      "outputs": [
        {
          "output_type": "stream",
          "text": [
            "Número de outliers superiores:  1\n"
          ],
          "name": "stdout"
        }
      ]
    },
    {
      "cell_type": "markdown",
      "metadata": {
        "id": "ipzStP5r-1hv"
      },
      "source": [
        "Agora que temos a quantidade de outliers, podemos calcular sua proporção.\n",
        "\n",
        "O total de outliers é a soma dos outliers superiores com os inferiores. Fazemos a razão entre esse número e o tamanho da amostra."
      ]
    },
    {
      "cell_type": "code",
      "metadata": {
        "id": "oqVMWH146mrN",
        "outputId": "2e91c485-a0f4-43ba-9524-ca9b4de81222",
        "colab": {
          "base_uri": "https://localhost:8080/",
          "height": 34
        }
      },
      "source": [
        "total_outliers = lower_outliers + upper_outliers\n",
        "\n",
        "print('A porcentagem de outliers na amostra é de {}%'.format(100 * total_outliers/len(sample_mean)))"
      ],
      "execution_count": 116,
      "outputs": [
        {
          "output_type": "stream",
          "text": [
            "A porcentagem de outliers na amostra é de 0.4%\n"
          ],
          "name": "stdout"
        }
      ]
    },
    {
      "cell_type": "markdown",
      "metadata": {
        "id": "VkbFXJHl_KHC"
      },
      "source": [
        "##2.5.e"
      ]
    },
    {
      "cell_type": "markdown",
      "metadata": {
        "id": "OUsLsWMvKW-j"
      },
      "source": [
        "Agora, queremos saber a porcentagem da área sob a curva em relação ao desvio amostral."
      ]
    },
    {
      "cell_type": "markdown",
      "metadata": {
        "id": "sWP308umARrg"
      },
      "source": [
        "Encontrando a área de x +/- s:"
      ]
    },
    {
      "cell_type": "code",
      "metadata": {
        "id": "tpCFwfXvAJ36"
      },
      "source": [
        "def porcentagem_area(X, desvio_padrao):\n",
        "  area = list()\n",
        "  for x in X:\n",
        "    if (x >= np.mean(X) - desvio_padrao) and (x <= np.mean(X) + desvio_padrao):\n",
        "      area.append(x)\n",
        "  return ((len(area)/len(X)) * 100)"
      ],
      "execution_count": 98,
      "outputs": []
    },
    {
      "cell_type": "code",
      "metadata": {
        "id": "D_WSVdpJBIUa",
        "outputId": "2edb5c29-553d-4588-cc26-810bfb16ae7b",
        "colab": {
          "base_uri": "https://localhost:8080/",
          "height": 34
        }
      },
      "source": [
        "print('Para s, a área corresponde a aproximadamente {:.2f}% da curva'.format(porcentagem_area(sample_mean, np.std(sample_mean))))"
      ],
      "execution_count": 99,
      "outputs": [
        {
          "output_type": "stream",
          "text": [
            "Para s, a área corresponde a aproximadamente 65.60% da curva\n"
          ],
          "name": "stdout"
        }
      ]
    },
    {
      "cell_type": "code",
      "metadata": {
        "id": "dPC4YFRXBLbA",
        "outputId": "54e213eb-4daa-4c3c-b290-786b644a0830",
        "colab": {
          "base_uri": "https://localhost:8080/",
          "height": 34
        }
      },
      "source": [
        "print('Para 2s, a área corresponde a aproximadamente {:.2f}% da curva'.format(porcentagem_area(sample_mean, np.std(sample_mean) * 2)))"
      ],
      "execution_count": 100,
      "outputs": [
        {
          "output_type": "stream",
          "text": [
            "Para 2s, a área corresponde a aproximadamente 96.80% da curva\n"
          ],
          "name": "stdout"
        }
      ]
    },
    {
      "cell_type": "code",
      "metadata": {
        "id": "Jm_fSidODQ_I",
        "outputId": "72c88031-4cbe-42ed-eee5-46ad2c6e00c3",
        "colab": {
          "base_uri": "https://localhost:8080/",
          "height": 34
        }
      },
      "source": [
        "print('Para 3s, a área corresponde a aproximadamente {:.2f}% da curva'.format(porcentagem_area(sample_mean, np.std(sample_mean) * 3)))"
      ],
      "execution_count": 101,
      "outputs": [
        {
          "output_type": "stream",
          "text": [
            "Para 3s, a área corresponde a aproximadamente 99.80% da curva\n"
          ],
          "name": "stdout"
        }
      ]
    },
    {
      "cell_type": "markdown",
      "metadata": {
        "id": "1w8r9uNPKdFT"
      },
      "source": [
        "##2.5.f"
      ]
    },
    {
      "cell_type": "markdown",
      "metadata": {
        "id": "jzuwJecUEGhl"
      },
      "source": [
        "Por último, queremos verificar se, no gráfico de distribuição de probabilidade, os pontos têm alguma relação linear."
      ]
    },
    {
      "cell_type": "code",
      "metadata": {
        "id": "zKopuEr-DVEA",
        "outputId": "cb4e1e10-df2e-46a1-8def-8ba720ae73bf",
        "colab": {
          "base_uri": "https://localhost:8080/",
          "height": 301
        }
      },
      "source": [
        "stats.probplot(sample_mean, plot = plt)\n",
        "plt.show()"
      ],
      "execution_count": 104,
      "outputs": [
        {
          "output_type": "display_data",
          "data": {
            "image/png": "[encoded data removed]",
            "text/plain": [
              "<Figure size 432x288 with 1 Axes>"
            ]
          },
          "metadata": {
            "tags": []
          }
        }
      ]
    },
    {
      "cell_type": "markdown",
      "metadata": {
        "id": "1DvdRjuXKhPK"
      },
      "source": [
        "Através do gráfico, constatamos que, de forma geral, os pontos têm uma forte relação linear."
      ]
    }
  ]
}