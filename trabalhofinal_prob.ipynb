{
  "nbformat": 4,
  "nbformat_minor": 0,
  "metadata": {
    "colab": {
      "name": "trabalhofinal_prob.ipynb",
      "provenance": [],
      "collapsed_sections": [
        "fr6ph7d8zCbT"
      ]
    },
    "kernelspec": {
      "name": "python3",
      "display_name": "Python 3"
    }
  },
  "cells": [
    {
      "cell_type": "markdown",
      "metadata": {
        "id": "fr6ph7d8zCbT"
      },
      "source": [
        "Importação de bibliotecas"
      ]
    },
    {
      "cell_type": "code",
      "metadata": {
        "id": "3-oLEVm3jTuq"
      },
      "source": [
        "import numpy as np\n",
        "import matplotlib.pyplot as plt\n",
        "import seaborn as sns\n",
        "from scipy import stats\n",
        "import statistics as st\n",
        "sns.set()\n",
        "sns.set_context('notebook')\n",
        "%matplotlib inline"
      ],
      "execution_count": 66,
      "outputs": []
    },
    {
      "cell_type": "markdown",
      "metadata": {
        "id": "9spZ-Pr4kJoZ"
      },
      "source": [
        "# Gerando amostras pseudoaleatórias"
      ]
    },
    {
      "cell_type": "code",
      "metadata": {
        "id": "CoUoeF28jpYs"
      },
      "source": [
        "X = np.random.poisson(5, size=(500, 50))\n",
        "\n",
        "#np.random.normal gera números aleatórios de distribuição normal\n",
        "#loc = média, scale = desvio padrão\n",
        "#size = tamanho da amostra, foi utilizado o formato (500, n) para gerar uma matriz de 500 linhas e n colunas,\n",
        "#ou seja, 1000 amostras, cada uma com n observações.\n",
        "#*Modificar o valor de n para ver as diferenças no gráfico de distribuição"
      ],
      "execution_count": 153,
      "outputs": []
    },
    {
      "cell_type": "code",
      "metadata": {
        "id": "prbwREq8uzrC"
      },
      "source": [
        "sample_mean = list()\n",
        "for row in X:\n",
        "  sample_mean.append(np.mean(row))\n",
        "\n",
        "#sample_mean é uma lista vazia.\n",
        "#O loop for criado itera sobre cada linha da matriz e adiciona, ao final da lista, a média dos valores da linha.\n"
      ],
      "execution_count": 154,
      "outputs": []
    },
    {
      "cell_type": "code",
      "metadata": {
        "id": "A9b0zmPIu5og",
        "outputId": "6a5a559d-aa27-4b42-ff69-1be9cd997f57",
        "colab": {
          "base_uri": "https://localhost:8080/",
          "height": 34
        }
      },
      "source": [
        "x_barra = np.array(sample_mean)\n",
        "x_barra[:10]\n",
        "#Convertemos o objeto do tipo list em numpy array para usar os métodos do numpy.\n",
        "#Checamos as 10 primeiras linhas, ou 10 primeiras médias amostrais."
      ],
      "execution_count": 155,
      "outputs": [
        {
          "output_type": "execute_result",
          "data": {
            "text/plain": [
              "array([5.14, 4.92, 5.1 , 5.52, 5.72, 4.56, 5.12, 4.7 , 4.7 , 4.94])"
            ]
          },
          "metadata": {
            "tags": []
          },
          "execution_count": 155
        }
      ]
    },
    {
      "cell_type": "markdown",
      "metadata": {
        "id": "bYRHBow_2u66"
      },
      "source": [
        "# Visualização"
      ]
    },
    {
      "cell_type": "code",
      "metadata": {
        "id": "EKde1YAt2-uH",
        "outputId": "370d6556-6841-44fa-edef-46ccdd324785",
        "colab": {
          "base_uri": "https://localhost:8080/",
          "height": 394
        }
      },
      "source": [
        "sns.set_style('white')\n",
        "\n",
        "plt.figure(figsize=(8,6))\n",
        "\n",
        "fig = sns.histplot(data = x_barra, \n",
        "             stat='probability', \n",
        "             kde=True)\n",
        "\n",
        "fig.set(ylabel='Probabilidades')"
      ],
      "execution_count": 205,
      "outputs": [
        {
          "output_type": "execute_result",
          "data": {
            "text/plain": [
              "[Text(0, 0.5, 'Probabilidades')]"
            ]
          },
          "metadata": {
            "tags": []
          },
          "execution_count": 205
        },
        {
          "output_type": "display_data",
          "data": {
            "image/png": "[encoded data removed]",
            "text/plain": [
              "<Figure size 576x432 with 1 Axes>"
            ]
          },
          "metadata": {
            "tags": []
          }
        }
      ]
    },
    {
      "cell_type": "code",
      "metadata": {
        "id": "zJuCVQ2l3fR0",
        "outputId": "2660a0dd-c416-476b-949e-866990dff219",
        "colab": {
          "base_uri": "https://localhost:8080/",
          "height": 431
        }
      },
      "source": [
        "sns.set_style('white')\n",
        "plt.figure(figsize=(8, 6))\n",
        "\n",
        "fig = sns.boxplot(x_barra)"
      ],
      "execution_count": 204,
      "outputs": [
        {
          "output_type": "stream",
          "text": [
            "/usr/local/lib/python3.6/dist-packages/seaborn/_decorators.py:43: FutureWarning: Pass the following variable as a keyword arg: x. From version 0.12, the only valid positional argument will be `data`, and passing other arguments without an explicit keyword will result in an error or misinterpretation.\n",
            "  FutureWarning\n"
          ],
          "name": "stderr"
        },
        {
          "output_type": "display_data",
          "data": {
            "image/png": "[encoded data removed]",
            "text/plain": [
              "<Figure size 576x432 with 1 Axes>"
            ]
          },
          "metadata": {
            "tags": []
          }
        }
      ]
    }
  ]
}